{
 "metadata": {
  "language_info": {
   "codemirror_mode": {
    "name": "ipython",
    "version": 3
   },
   "file_extension": ".py",
   "mimetype": "text/x-python",
   "name": "python",
   "nbconvert_exporter": "python",
   "pygments_lexer": "ipython3",
   "version": "3.7.10-final"
  },
  "orig_nbformat": 2,
  "kernelspec": {
   "name": "python3",
   "display_name": "Python 3",
   "language": "python"
  }
 },
 "nbformat": 4,
 "nbformat_minor": 2,
 "cells": [
  {
   "cell_type": "code",
   "execution_count": null,
   "metadata": {},
   "outputs": [],
   "source": [
    "!pip install pandas-datareader\n",
    "!pip install pandas"
   ]
  },
  {
   "cell_type": "code",
   "execution_count": null,
   "metadata": {},
   "outputs": [],
   "source": [
    "from datetime import date\n",
    "from pandas_datareader import data\n",
    "import numpy as np\n",
    "import pandas as pd"
   ]
  },
  {
   "cell_type": "code",
   "execution_count": null,
   "metadata": {},
   "outputs": [],
   "source": [
    "def download_stock_list(stock_list):\n",
    "    for stock in stock_list:\n",
    "        try:\n",
    "            df = data.DataReader(stock.strip(),data_source='yahoo')\n",
    "            df = df.astype(np.double)\n",
    "            df.to_csv(f\"price_data/{stock}.csv\")\n",
    "            print(f\"Processed: {stock}\")\n",
    "        except:\n",
    "            print(f\"Failed to process: {stock}\")"
   ]
  },
  {
   "cell_type": "code",
   "execution_count": null,
   "metadata": {
    "tags": []
   },
   "outputs": [],
   "source": [
    "import re \n",
    "\n",
    "def get_stock_list():\n",
    "    with open('stock_list/nasdaqlisted.txt', 'r') as f:\n",
    "        nasdaqlisted = f.read()\n",
    "    with open('stock_list/otherlisted.txt', 'r') as f:\n",
    "        otherlisted = f.read()\n",
    "    regex = r\"\" # TODO: Parse files\n",
    "    nasdaq_list = re.findall(regex,nasdaqlisted)\n",
    "    # TODO: Filter the ones not in S&P 500 (need to find a list of stocks in S&P)\n",
    "    return []"
   ]
  },
  {
   "cell_type": "code",
   "execution_count": null,
   "metadata": {},
   "outputs": [],
   "source": [
    "stock_list = pd.read_csv(\"stock_list/s&p500.txt\")\n",
    "stock_list = stock_list[\"Symbol\"].to_list()\n",
    "print(stock_list)"
   ]
  },
  {
   "cell_type": "code",
   "execution_count": null,
   "metadata": {},
   "outputs": [],
   "source": [
    "download_stock_list(stock_list)"
   ]
  },
  {
   "cell_type": "code",
   "execution_count": null,
   "metadata": {},
   "outputs": [],
   "source": []
  }
 ]
}