{
 "cells": [
  {
   "cell_type": "code",
   "execution_count": 2,
   "metadata": {},
   "outputs": [
    {
     "output_type": "stream",
     "name": "stdout",
     "text": [
      "Defaulting to user installation because normal site-packages is not writeable\n",
      "Requirement already satisfied: pandas-datareader in /Users/austinstarks/Library/Python/3.8/lib/python/site-packages (0.9.0)\n",
      "Requirement already satisfied: lxml in /Users/austinstarks/Library/Python/3.8/lib/python/site-packages (from pandas-datareader) (4.6.3)\n",
      "Requirement already satisfied: requests>=2.19.0 in /Users/austinstarks/Library/Python/3.8/lib/python/site-packages (from pandas-datareader) (2.25.1)\n",
      "Requirement already satisfied: pandas>=0.23 in /Users/austinstarks/Library/Python/3.8/lib/python/site-packages (from pandas-datareader) (1.2.3)\n",
      "Requirement already satisfied: pytz>=2017.3 in /Users/austinstarks/Library/Python/3.8/lib/python/site-packages (from pandas>=0.23->pandas-datareader) (2021.1)\n",
      "Requirement already satisfied: python-dateutil>=2.7.3 in /Users/austinstarks/Library/Python/3.8/lib/python/site-packages (from pandas>=0.23->pandas-datareader) (2.8.1)\n",
      "Requirement already satisfied: numpy>=1.16.5 in /Users/austinstarks/Library/Python/3.8/lib/python/site-packages (from pandas>=0.23->pandas-datareader) (1.20.2)\n",
      "Requirement already satisfied: six>=1.5 in /Library/Developer/CommandLineTools/Library/Frameworks/Python3.framework/Versions/3.8/lib/python3.8/site-packages (from python-dateutil>=2.7.3->pandas>=0.23->pandas-datareader) (1.15.0)\n",
      "Requirement already satisfied: certifi>=2017.4.17 in /Users/austinstarks/Library/Python/3.8/lib/python/site-packages (from requests>=2.19.0->pandas-datareader) (2020.12.5)\n",
      "Requirement already satisfied: chardet<5,>=3.0.2 in /Users/austinstarks/Library/Python/3.8/lib/python/site-packages (from requests>=2.19.0->pandas-datareader) (4.0.0)\n",
      "Requirement already satisfied: idna<3,>=2.5 in /Users/austinstarks/Library/Python/3.8/lib/python/site-packages (from requests>=2.19.0->pandas-datareader) (2.10)\n",
      "Requirement already satisfied: urllib3<1.27,>=1.21.1 in /Users/austinstarks/Library/Python/3.8/lib/python/site-packages (from requests>=2.19.0->pandas-datareader) (1.26.2)\n",
      "\u001b[33mWARNING: You are using pip version 21.0.1; however, version 21.1.1 is available.\n",
      "You should consider upgrading via the '/Library/Developer/CommandLineTools/usr/bin/python3 -m pip install --upgrade pip' command.\u001b[0m\n",
      "Defaulting to user installation because normal site-packages is not writeable\n",
      "Requirement already satisfied: pandas in /Users/austinstarks/Library/Python/3.8/lib/python/site-packages (1.2.3)\n",
      "Requirement already satisfied: numpy>=1.16.5 in /Users/austinstarks/Library/Python/3.8/lib/python/site-packages (from pandas) (1.20.2)\n",
      "Requirement already satisfied: python-dateutil>=2.7.3 in /Users/austinstarks/Library/Python/3.8/lib/python/site-packages (from pandas) (2.8.1)\n",
      "Requirement already satisfied: pytz>=2017.3 in /Users/austinstarks/Library/Python/3.8/lib/python/site-packages (from pandas) (2021.1)\n",
      "Requirement already satisfied: six>=1.5 in /Library/Developer/CommandLineTools/Library/Frameworks/Python3.framework/Versions/3.8/lib/python3.8/site-packages (from python-dateutil>=2.7.3->pandas) (1.15.0)\n",
      "\u001b[33mWARNING: You are using pip version 21.0.1; however, version 21.1.1 is available.\n",
      "You should consider upgrading via the '/Library/Developer/CommandLineTools/usr/bin/python3 -m pip install --upgrade pip' command.\u001b[0m\n"
     ]
    }
   ],
   "source": [
    "!pip3 install pandas-datareader\n",
    "!pip3 install pandas"
   ]
  },
  {
   "cell_type": "code",
   "execution_count": 3,
   "metadata": {},
   "outputs": [],
   "source": [
    "from datetime import date\n",
    "from pandas_datareader import data\n",
    "import numpy as np\n",
    "import pandas as pd"
   ]
  },
  {
   "cell_type": "code",
   "execution_count": 4,
   "metadata": {},
   "outputs": [],
   "source": [
    "def download_stock_list(stock_list):\n",
    "    for stock in stock_list:\n",
    "        try:\n",
    "            df = data.DataReader(stock.strip(),data_source='yahoo', start='01-01-2007', end=\"04-09-2021\")\n",
    "            df = df.astype(np.double)\n",
    "            df.to_csv(f\"price_data/{stock}.csv\")\n",
    "            print(f\"Processed: {stock}\")\n",
    "        except:\n",
    "            print(f\"Failed to process: {stock}\")"
   ]
  },
  {
   "cell_type": "code",
   "execution_count": 5,
   "metadata": {
    "tags": []
   },
   "outputs": [],
   "source": [
    "import re \n",
    "\n",
    "def get_stock_list():\n",
    "    with open('stock_list/nasdaqlisted.txt', 'r') as f:\n",
    "        nasdaqlisted = f.read()\n",
    "    with open('stock_list/otherlisted.txt', 'r') as f:\n",
    "        otherlisted = f.read()\n",
    "    regex = r\"\" # TODO: Parse files\n",
    "    nasdaq_list = re.findall(regex,nasdaqlisted)\n",
    "    # TODO: Filter the ones not in S&P 500 (need to find a list of stocks in S&P)\n",
    "    return []"
   ]
  },
  {
   "cell_type": "code",
   "execution_count": 6,
   "metadata": {},
   "outputs": [],
   "source": [
    "stock_list = pd.read_csv(\"stock_list/s&p500.txt\")\n",
    "stock_list = stock_list[\"Symbol\"].to_list()\n",
    "print(stock_list)"
   ]
  },
  {
   "cell_type": "code",
   "execution_count": 9,
   "metadata": {},
   "outputs": [
    {
     "output_type": "stream",
     "name": "stdout",
     "text": [
      "Processed: NFLX\n",
      "Processed: NVDA\n"
     ]
    }
   ],
   "source": [
    "download_stock_list(['NFLX', 'NVDA'])"
   ]
  },
  {
   "cell_type": "code",
   "execution_count": null,
   "metadata": {},
   "outputs": [],
   "source": []
  }
 ],
 "metadata": {
  "kernelspec": {
   "name": "python388jvsc74a57bd0737adab86a857289fc3bb162d0b4f640b26cc80f7c2ae1cce2eb6b9aa0f64168",
   "display_name": "Python 3.8.8 64-bit ('base': conda)"
  },
  "language_info": {
   "codemirror_mode": {
    "name": "ipython",
    "version": 3
   },
   "file_extension": ".py",
   "mimetype": "text/x-python",
   "name": "python",
   "nbconvert_exporter": "python",
   "pygments_lexer": "ipython3",
   "version": "3.8.8"
  }
 },
 "nbformat": 4,
 "nbformat_minor": 2
}