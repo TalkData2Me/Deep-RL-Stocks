{
 "metadata": {
  "language_info": {
   "codemirror_mode": {
    "name": "ipython",
    "version": 3
   },
   "file_extension": ".py",
   "mimetype": "text/x-python",
   "name": "python",
   "nbconvert_exporter": "python",
   "pygments_lexer": "ipython3",
   "version": "3.8.2"
  },
  "orig_nbformat": 2,
  "kernelspec": {
   "name": "python3",
   "display_name": "Python 3.8.2 64-bit",
   "metadata": {
    "interpreter": {
     "hash": "31f2aee4e71d21fbe5cf8b01ff0e069b9275f58929596ceb00d14d90e3e16cd6"
    }
   }
  }
 },
 "nbformat": 4,
 "nbformat_minor": 2,
 "cells": [
  {
   "cell_type": "code",
   "execution_count": 3,
   "metadata": {},
   "outputs": [
    {
     "output_type": "stream",
     "name": "stdout",
     "text": [
      "Defaulting to user installation because normal site-packages is not writeable\n",
      "Requirement already satisfied: pandas-datareader in /Users/austinstarks/Library/Python/3.8/lib/python/site-packages (0.9.0)\n",
      "Requirement already satisfied: pandas>=0.23 in /Users/austinstarks/Library/Python/3.8/lib/python/site-packages (from pandas-datareader) (1.2.0)\n",
      "Requirement already satisfied: requests>=2.19.0 in /Users/austinstarks/Library/Python/3.8/lib/python/site-packages (from pandas-datareader) (2.25.1)\n",
      "Requirement already satisfied: lxml in /Users/austinstarks/Library/Python/3.8/lib/python/site-packages (from pandas-datareader) (4.6.2)\n",
      "Requirement already satisfied: python-dateutil>=2.7.3 in /Users/austinstarks/Library/Python/3.8/lib/python/site-packages (from pandas>=0.23->pandas-datareader) (2.8.1)\n",
      "Requirement already satisfied: pytz>=2017.3 in /Users/austinstarks/Library/Python/3.8/lib/python/site-packages (from pandas>=0.23->pandas-datareader) (2019.3)\n",
      "Requirement already satisfied: numpy>=1.16.5 in /Users/austinstarks/Library/Python/3.8/lib/python/site-packages (from pandas>=0.23->pandas-datareader) (1.19.5)\n",
      "Requirement already satisfied: six>=1.5 in /Library/Developer/CommandLineTools/Library/Frameworks/Python3.framework/Versions/3.8/lib/python3.8/site-packages (from python-dateutil>=2.7.3->pandas>=0.23->pandas-datareader) (1.15.0)\n",
      "Requirement already satisfied: urllib3<1.27,>=1.21.1 in /Users/austinstarks/Library/Python/3.8/lib/python/site-packages (from requests>=2.19.0->pandas-datareader) (1.26.2)\n",
      "Requirement already satisfied: certifi>=2017.4.17 in /Users/austinstarks/Library/Python/3.8/lib/python/site-packages (from requests>=2.19.0->pandas-datareader) (2020.12.5)\n",
      "Requirement already satisfied: chardet<5,>=3.0.2 in /Users/austinstarks/Library/Python/3.8/lib/python/site-packages (from requests>=2.19.0->pandas-datareader) (4.0.0)\n",
      "Requirement already satisfied: idna<3,>=2.5 in /Users/austinstarks/Library/Python/3.8/lib/python/site-packages (from requests>=2.19.0->pandas-datareader) (2.10)\n",
      "Defaulting to user installation because normal site-packages is not writeable\n",
      "Requirement already satisfied: pandas in /Users/austinstarks/Library/Python/3.8/lib/python/site-packages (1.2.0)\n",
      "Requirement already satisfied: python-dateutil>=2.7.3 in /Users/austinstarks/Library/Python/3.8/lib/python/site-packages (from pandas) (2.8.1)\n",
      "Requirement already satisfied: numpy>=1.16.5 in /Users/austinstarks/Library/Python/3.8/lib/python/site-packages (from pandas) (1.19.5)\n",
      "Requirement already satisfied: pytz>=2017.3 in /Users/austinstarks/Library/Python/3.8/lib/python/site-packages (from pandas) (2019.3)\n",
      "Requirement already satisfied: six>=1.5 in /Library/Developer/CommandLineTools/Library/Frameworks/Python3.framework/Versions/3.8/lib/python3.8/site-packages (from python-dateutil>=2.7.3->pandas) (1.15.0)\n"
     ]
    }
   ],
   "source": [
    "!pip install pandas-datareader\n",
    "!pip install pandas"
   ]
  },
  {
   "cell_type": "code",
   "execution_count": 2,
   "metadata": {},
   "outputs": [],
   "source": [
    "from datetime import date\n",
    "from pandas_datareader import data\n",
    "import numpy as np"
   ]
  },
  {
   "cell_type": "code",
   "execution_count": null,
   "metadata": {},
   "outputs": [],
   "source": []
  },
  {
   "cell_type": "code",
   "execution_count": 3,
   "metadata": {},
   "outputs": [],
   "source": [
    "def download_stock_list(stock_list):\n",
    "    for stock in stock_list:\n",
    "        df = data.DataReader(stock, start='2015-01-01', end=date.today().strftime(\"%m/%d/%Y\"),data_source='yahoo')\n",
    "        df = df.astype(np.double)\n",
    "        df.to_csv(f\"price_data/{stock}.csv\")\n",
    "    "
   ]
  },
  {
   "cell_type": "code",
   "execution_count": 5,
   "metadata": {
    "tags": []
   },
   "outputs": [],
   "source": [
    "import re \n",
    "\n",
    "def get_stock_list():\n",
    "    with open('stock_list/nasdaqlisted.txt', 'r') as f:\n",
    "        nasdaqlisted = f.read()\n",
    "    with open('stock_list/otherlisted.txt', 'r') as f:\n",
    "        otherlisted = f.read()\n",
    "    regex = r\"\" # TODO: Parse files\n",
    "    nasdaq_list = re.findall(regex,nasdaqlisted)\n",
    "    # TODO: Filter the ones not in S&P 500 (need to find a list of stocks in S&P)\n",
    "    return []"
   ]
  },
  {
   "cell_type": "code",
   "execution_count": 4,
   "metadata": {},
   "outputs": [],
   "source": [
    "stock_list = [\"SPY\", \"QQQ\", \"NVDA\"] # can be whatever stocks you want"
   ]
  },
  {
   "cell_type": "code",
   "execution_count": null,
   "metadata": {},
   "outputs": [],
   "source": [
    "download_stock_list(stock_list)"
   ]
  }
 ]
}